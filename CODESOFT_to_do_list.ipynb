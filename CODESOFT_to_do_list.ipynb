{
  "nbformat": 4,
  "nbformat_minor": 0,
  "metadata": {
    "colab": {
      "provenance": []
    },
    "kernelspec": {
      "name": "python3",
      "display_name": "Python 3"
    },
    "language_info": {
      "name": "python"
    }
  },
  "cells": [
    {
      "cell_type": "code",
      "source": [
        "class ToDoList:\n",
        "    def __init__(self):\n",
        "        self.tasks = []\n",
        "\n",
        "    def add_task(self, task):\n",
        "        self.tasks.append(task)\n",
        "        print(\"Task added successfully.\")\n",
        "\n",
        "    def delete_task(self, task_index):\n",
        "        try:\n",
        "            del self.tasks[task_index]\n",
        "            print(\"Task deleted successfully.\")\n",
        "        except IndexError:\n",
        "            print(\"Task index out of range.\")\n",
        "\n",
        "    def view_tasks(self):\n",
        "        if self.tasks:\n",
        "            print(\"Your To-Do List:\")\n",
        "            for index, task in enumerate(self.tasks):\n",
        "                print(f\"{index + 1}. {task}\")\n",
        "        else:\n",
        "            print(\"Your To-Do List is empty.\")\n",
        "\n",
        "    def update_task(self, task_index, new_task):\n",
        "        try:\n",
        "            self.tasks[task_index] = new_task\n",
        "            print(\"Task updated successfully.\")\n",
        "        except IndexError:\n",
        "            print(\"Task index out of range.\")\n",
        "\n",
        "\n",
        "def main():\n",
        "    todo_list = ToDoList()\n",
        "\n",
        "    while True:\n",
        "        print(\"\\nMenu:\")\n",
        "        print(\"1. Add Task\")\n",
        "        print(\"2. Delete Task\")\n",
        "        print(\"3. View Tasks\")\n",
        "        print(\"4. Update Task\")\n",
        "        print(\"5. Exit\")\n",
        "\n",
        "        choice = input(\"Enter your choice: \")\n",
        "\n",
        "        if choice == '1':\n",
        "            task = input(\"Enter task: \")\n",
        "            todo_list.add_task(task)\n",
        "        elif choice == '2':\n",
        "            task_index = int(input(\"Enter task index to delete: \")) - 1\n",
        "            todo_list.delete_task(task_index)\n",
        "        elif choice == '3':\n",
        "            todo_list.view_tasks()\n",
        "        elif choice == '4':\n",
        "            task_index = int(input(\"Enter task index to update: \")) - 1\n",
        "            new_task = input(\"Enter new task: \")\n",
        "            todo_list.update_task(task_index, new_task)\n",
        "        elif choice == '5':\n",
        "            print(\"Exiting...\")\n",
        "            break\n",
        "        else:\n",
        "            print(\"Invalid choice. Please enter a number from 1 to 5.\")\n",
        "\n",
        "\n",
        "if __name__ == \"__main__\":\n",
        "    main()\n"
      ],
      "metadata": {
        "colab": {
          "base_uri": "https://localhost:8080/"
        },
        "id": "XuXPsmQrYY3x",
        "outputId": "306a0dee-204c-46e2-eb82-ff4ec246a63e"
      },
      "execution_count": 6,
      "outputs": [
        {
          "output_type": "stream",
          "name": "stdout",
          "text": [
            "\n",
            "Menu:\n",
            "1. Add Task\n",
            "2. Delete Task\n",
            "3. View Tasks\n",
            "4. Update Task\n",
            "5. Exit\n",
            "Enter your choice: 1\n",
            "Enter task: wake up early\n",
            "Task added successfully.\n",
            "\n",
            "Menu:\n",
            "1. Add Task\n",
            "2. Delete Task\n",
            "3. View Tasks\n",
            "4. Update Task\n",
            "5. Exit\n",
            "Enter your choice: 3\n",
            "Your To-Do List:\n",
            "1. wake up early\n",
            "\n",
            "Menu:\n",
            "1. Add Task\n",
            "2. Delete Task\n",
            "3. View Tasks\n",
            "4. Update Task\n",
            "5. Exit\n",
            "Enter your choice: 5\n",
            "Exiting...\n"
          ]
        }
      ]
    }
  ]
}